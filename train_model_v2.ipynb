{
 "cells": [
  {
   "cell_type": "code",
   "execution_count": 5,
   "id": "090b90dc-98a9-4a70-ba1a-98202b07528e",
   "metadata": {},
   "outputs": [
    {
     "name": "stdout",
     "output_type": "stream",
     "text": [
      "🎯 Accuracy модели: 0.98\n"
     ]
    },
    {
     "name": "stderr",
     "output_type": "stream",
     "text": [
      "C:\\Users\\user\\anaconda3\\Lib\\site-packages\\xgboost\\training.py:183: UserWarning: [22:10:42] WARNING: C:\\actions-runner\\_work\\xgboost\\xgboost\\src\\learner.cc:738: \n",
      "Parameters: { \"use_label_encoder\" } are not used.\n",
      "\n",
      "  bst.update(dtrain, iteration=i, fobj=obj)\n"
     ]
    }
   ],
   "source": [
    "import pandas as pd\n",
    "import numpy as np\n",
    "import random\n",
    "\n",
    "from sklearn.model_selection import train_test_split\n",
    "from sklearn.preprocessing import LabelEncoder\n",
    "from xgboost import XGBClassifier\n",
    "import pickle\n",
    "\n",
    "def generate_data(n=1000):\n",
    "    data = {\n",
    "        'Age': np.random.randint(18, 65, n),\n",
    "        'Gender': np.random.choice(['Мужчина', 'Женщина'], n),\n",
    "        'Income': np.random.normal(250000, 75000, n).astype(int),\n",
    "        'Spouse_income': np.random.choice([0, 100000, 150000, 200000], n, p=[0.6, 0.2, 0.15, 0.05]),\n",
    "        'Marital_status': np.random.choice(['Женат/Замужем', 'Не женат/не замужем'], n),\n",
    "        'Work_experience': np.random.randint(0, 40, n),\n",
    "        'Children': np.random.randint(0, 4, n),\n",
    "        'Loan_amount': np.random.randint(100000, 2000000, n),\n",
    "        'Loan_term_months': np.random.choice([6, 12, 24, 36, 48, 60], n, p=[0.05, 0.1, 0.25, 0.3, 0.2, 0.1]),\n",
    "        'Has_mortgage': np.random.choice([0, 1], n),\n",
    "        'Has_car': np.random.choice([0, 1], n),\n",
    "        'Credit_history': np.random.choice(['Хорошая', 'Плохая', 'Нет'], n, p=[0.7, 0.2, 0.1]),\n",
    "        'Education': np.random.choice(['Среднее', 'Высшее', 'Магистратура', 'Другое'], n),\n",
    "        'Region': np.random.choice(['Алматы', 'Астана', 'Шымкент', 'Другой'], n),\n",
    "        'Employment_type': np.random.choice(['Сотрудник', 'Фрилансер', 'Безработный'], n),\n",
    "        'Housing_type': np.random.choice(['Собственное', 'Аренда'], n),\n",
    "        'Current_loans': np.random.randint(0, 5, n),\n",
    "    }\n",
    "\n",
    "    df = pd.DataFrame(data)\n",
    "\n",
    "    df['adjusted_income'] = df['Income'] + df['Spouse_income'] - df['Children'] * 30000\n",
    "    df['Monthly_payment'] = (df['Loan_amount'] / df['Loan_term_months']).astype(int)\n",
    "    df['Payment_to_income_ratio'] = df['Monthly_payment'] / (df['adjusted_income'] + 1)\n",
    "\n",
    "    def calc_target(row):\n",
    "        score = 0\n",
    "        score += (row['adjusted_income'] > 200000)\n",
    "        score += (row['Credit_history'] == 'Хорошая')\n",
    "        score += (row['Work_experience'] > 5)\n",
    "        score += (row['Has_mortgage'] == 0)\n",
    "        score += (row['Current_loans'] == 0)\n",
    "        score += (row['Employment_type'] == 'Сотрудник')\n",
    "        score += (row['Housing_type'] == 'Собственное')\n",
    "        score += (row['Loan_amount'] < 1000000)\n",
    "        score += (row['Payment_to_income_ratio'] < 0.3)  # Новое условие\n",
    "        return 1 if score >= 5 else 0\n",
    "\n",
    "    df['Target'] = df.apply(calc_target, axis=1)\n",
    "    return df\n",
    "\n",
    "df = generate_data(2000)\n",
    "\n",
    "categorical_cols = [\n",
    "    'Gender', 'Credit_history', 'Education', 'Region',\n",
    "    'Marital_status', 'Employment_type', 'Housing_type'\n",
    "]\n",
    "\n",
    "encoders = {}\n",
    "for col in categorical_cols:\n",
    "    enc = LabelEncoder()\n",
    "    df[col] = enc.fit_transform(df[col])\n",
    "    encoders[col] = enc\n",
    "\n",
    "X = df.drop(['Target', 'Income'], axis=1)\n",
    "y = df['Target']\n",
    "\n",
    "X_train, X_test, y_train, y_test = train_test_split(X, y, test_size=0.2, random_state=42)\n",
    "\n",
    "model = XGBClassifier(use_label_encoder=False, eval_metric='logloss')\n",
    "model.fit(X_train, y_train)\n",
    "\n",
    "acc = model.score(X_test, y_test)\n",
    "print(f\"🎯 Accuracy модели: {acc:.2f}\")\n",
    "\n",
    "import os\n",
    "os.makedirs(\"model_v2\", exist_ok=True)\n",
    "\n",
    "with open(\"model_v2/xgb_model.pkl\", \"wb\") as f:\n",
    "    pickle.dump(model, f)\n",
    "\n",
    "with open(\"model_v2/encoders.pkl\", \"wb\") as f:\n",
    "    pickle.dump(encoders, f)\n"
   ]
  },
  {
   "cell_type": "code",
   "execution_count": null,
   "id": "02d59c4b-5aa1-4d9c-8dc8-2333908c64d1",
   "metadata": {},
   "outputs": [],
   "source": []
  }
 ],
 "metadata": {
  "kernelspec": {
   "display_name": "Python [conda env:base] *",
   "language": "python",
   "name": "conda-base-py"
  },
  "language_info": {
   "codemirror_mode": {
    "name": "ipython",
    "version": 3
   },
   "file_extension": ".py",
   "mimetype": "text/x-python",
   "name": "python",
   "nbconvert_exporter": "python",
   "pygments_lexer": "ipython3",
   "version": "3.12.7"
  }
 },
 "nbformat": 4,
 "nbformat_minor": 5
}
